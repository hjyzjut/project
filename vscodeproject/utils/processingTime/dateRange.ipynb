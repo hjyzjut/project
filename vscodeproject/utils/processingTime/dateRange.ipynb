{
 "cells": [
  {
   "cell_type": "code",
   "execution_count": 1,
   "metadata": {},
   "outputs": [],
   "source": []
  },
  {
   "cell_type": "markdown",
   "metadata": {},
   "source": [
    "根据时间范围，取月份，通过relativedelta参数可设置时间粒度"
   ]
  },
  {
   "cell_type": "code",
   "execution_count": 3,
   "metadata": {},
   "outputs": [],
   "source": [
    "import datetime\n",
    "from dateutil.relativedelta import relativedelta\n",
    "\n",
    "def dateRange(beginDate, endDate):\n",
    "    dates = []\n",
    "    dt = datetime.datetime.strptime(beginDate, \"%Y-%m\")\n",
    "    date = beginDate[:]\n",
    "    while date <= endDate:\n",
    "        dates.append(date)\n",
    "        dt = dt + relativedelta(months=1)\n",
    "        date = dt.strftime(\"%Y-%m\")\n",
    "    return dates\n",
    "# dateRange('2020-01','2021-03')"
   ]
  },
  {
   "cell_type": "code",
   "execution_count": null,
   "metadata": {},
   "outputs": [],
   "source": []
  }
 ],
 "metadata": {
  "interpreter": {
   "hash": "b7742352b855fcc4ce05d7cdc34e4c9072917ca8e1300cc05108ac6d085178a0"
  },
  "kernelspec": {
   "display_name": "Python 3.7.9 64-bit ('base': conda)",
   "name": "python3"
  },
  "language_info": {
   "codemirror_mode": {
    "name": "ipython",
    "version": 3
   },
   "file_extension": ".py",
   "mimetype": "text/x-python",
   "name": "python",
   "nbconvert_exporter": "python",
   "pygments_lexer": "ipython3",
   "version": "3.7.9"
  },
  "orig_nbformat": 4
 },
 "nbformat": 4,
 "nbformat_minor": 2
}
