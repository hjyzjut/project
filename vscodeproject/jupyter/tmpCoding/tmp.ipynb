{
 "cells": [
  {
   "cell_type": "code",
   "execution_count": 1,
   "metadata": {},
   "outputs": [],
   "source": [
    "import pandas  as pd"
   ]
  },
  {
   "cell_type": "code",
   "execution_count": 2,
   "metadata": {},
   "outputs": [],
   "source": [
    "tab = pd.read_csv(\"销售主题分析_订单_20210101-20210930.csv\",low_memory=False)"
   ]
  },
  {
   "cell_type": "code",
   "execution_count": 3,
   "metadata": {},
   "outputs": [
    {
     "data": {
      "text/plain": [
       "Index(['内部订单号', '标记多标签', '订单类型', '线上订单号', '订单状态', '发货仓', '分销商', '店铺', '买家账号',\n",
       "       '买家留言', '卖家备注', '订单日期', '发货日期', '付款日期', '确认收货日期', '供销支付日期', '业务员',\n",
       "       '收件人姓名', '省', '市', '区县', '快递公司', '快递单号', '销售数量', '赠品数量', '价格为零的商品数量',\n",
       "       '实发数量', '实发金额', '销售金额', '销售成本', '实发成本', '销售毛利', '销售毛利率', '运费收入', '运费支出',\n",
       "       '优惠金额', '基本金额', '已付金额', '应付金额', '退货数量', '实退数量', '退货金额', '退货成本', '实退成本',\n",
       "       '实退金额', '订单重量', '订单商品重量', '商店站点', '订单来源', '便签', '供销商'],\n",
       "      dtype='object')"
      ]
     },
     "execution_count": 3,
     "metadata": {},
     "output_type": "execute_result"
    }
   ],
   "source": [
    "tab.columns"
   ]
  },
  {
   "cell_type": "code",
   "execution_count": 4,
   "metadata": {},
   "outputs": [],
   "source": [
    "tab[\"month\"] = pd.to_datetime(tab[\"付款日期\"]).dt.month\n",
    "tab.groupby([\"店铺\",\"month\"])[\"买家账号\"].nunique().to_csv('11.csv',encoding='gbk')"
   ]
  },
  {
   "cell_type": "code",
   "execution_count": 18,
   "metadata": {},
   "outputs": [],
   "source": []
  },
  {
   "cell_type": "code",
   "execution_count": 12,
   "metadata": {},
   "outputs": [
    {
     "data": {
      "text/html": [
       "<div>\n",
       "<style scoped>\n",
       "    .dataframe tbody tr th:only-of-type {\n",
       "        vertical-align: middle;\n",
       "    }\n",
       "\n",
       "    .dataframe tbody tr th {\n",
       "        vertical-align: top;\n",
       "    }\n",
       "\n",
       "    .dataframe thead th {\n",
       "        text-align: right;\n",
       "    }\n",
       "</style>\n",
       "<table border=\"1\" class=\"dataframe\">\n",
       "  <thead>\n",
       "    <tr style=\"text-align: right;\">\n",
       "      <th></th>\n",
       "      <th>内部订单号</th>\n",
       "      <th>标记多标签</th>\n",
       "      <th>订单类型</th>\n",
       "      <th>线上订单号</th>\n",
       "      <th>订单状态</th>\n",
       "      <th>发货仓</th>\n",
       "      <th>分销商</th>\n",
       "      <th>店铺</th>\n",
       "      <th>买家账号</th>\n",
       "      <th>买家留言</th>\n",
       "      <th>...</th>\n",
       "      <th>退货成本</th>\n",
       "      <th>实退成本</th>\n",
       "      <th>实退金额</th>\n",
       "      <th>订单重量</th>\n",
       "      <th>订单商品重量</th>\n",
       "      <th>商店站点</th>\n",
       "      <th>订单来源</th>\n",
       "      <th>便签</th>\n",
       "      <th>供销商</th>\n",
       "      <th>month</th>\n",
       "    </tr>\n",
       "  </thead>\n",
       "  <tbody>\n",
       "    <tr>\n",
       "      <th>103555</th>\n",
       "      <td>10685</td>\n",
       "      <td>线上发货</td>\n",
       "      <td>普通订单</td>\n",
       "      <td>1912502089287947073</td>\n",
       "      <td>已发货</td>\n",
       "      <td>上海海澜生活电子商务有限公司</td>\n",
       "      <td>NaN</td>\n",
       "      <td>天猫-海澜优选生活馆旗舰店</td>\n",
       "      <td>～迷你鱼～</td>\n",
       "      <td>NaN</td>\n",
       "      <td>...</td>\n",
       "      <td>NaN</td>\n",
       "      <td>NaN</td>\n",
       "      <td>NaN</td>\n",
       "      <td>NaN</td>\n",
       "      <td>NaN</td>\n",
       "      <td>淘宝天猫</td>\n",
       "      <td>手机,手机</td>\n",
       "      <td>NaN</td>\n",
       "      <td>NaN</td>\n",
       "      <td>6</td>\n",
       "    </tr>\n",
       "    <tr>\n",
       "      <th>103944</th>\n",
       "      <td>10131</td>\n",
       "      <td>NaN</td>\n",
       "      <td>普通订单</td>\n",
       "      <td>1912760426709947073</td>\n",
       "      <td>已取消</td>\n",
       "      <td>上海海澜生活电子商务有限公司</td>\n",
       "      <td>NaN</td>\n",
       "      <td>天猫-海澜优选生活馆旗舰店</td>\n",
       "      <td>～迷你鱼～</td>\n",
       "      <td>NaN</td>\n",
       "      <td>...</td>\n",
       "      <td>NaN</td>\n",
       "      <td>NaN</td>\n",
       "      <td>NaN</td>\n",
       "      <td>NaN</td>\n",
       "      <td>NaN</td>\n",
       "      <td>淘宝天猫</td>\n",
       "      <td>手机,手机</td>\n",
       "      <td>NaN</td>\n",
       "      <td>NaN</td>\n",
       "      <td>6</td>\n",
       "    </tr>\n",
       "  </tbody>\n",
       "</table>\n",
       "<p>2 rows × 52 columns</p>\n",
       "</div>"
      ],
      "text/plain": [
       "        内部订单号 标记多标签  订单类型                线上订单号 订单状态             发货仓  分销商  \\\n",
       "103555  10685  线上发货  普通订单  1912502089287947073  已发货  上海海澜生活电子商务有限公司  NaN   \n",
       "103944  10131   NaN  普通订单  1912760426709947073  已取消  上海海澜生活电子商务有限公司  NaN   \n",
       "\n",
       "                   店铺   买家账号 买家留言  ... 退货成本 实退成本 实退金额 订单重量 订单商品重量  商店站点  \\\n",
       "103555  天猫-海澜优选生活馆旗舰店  ～迷你鱼～  NaN  ...  NaN  NaN  NaN  NaN    NaN  淘宝天猫   \n",
       "103944  天猫-海澜优选生活馆旗舰店  ～迷你鱼～  NaN  ...  NaN  NaN  NaN  NaN    NaN  淘宝天猫   \n",
       "\n",
       "         订单来源   便签 供销商 month  \n",
       "103555  手机,手机  NaN NaN     6  \n",
       "103944  手机,手机  NaN NaN     6  \n",
       "\n",
       "[2 rows x 52 columns]"
      ]
     },
     "execution_count": 12,
     "metadata": {},
     "output_type": "execute_result"
    }
   ],
   "source": [
    "tab[tab[\"买家账号\"]==\"～迷你鱼～\"]"
   ]
  },
  {
   "cell_type": "code",
   "execution_count": null,
   "metadata": {},
   "outputs": [],
   "source": []
  }
 ],
 "metadata": {
  "interpreter": {
   "hash": "b7742352b855fcc4ce05d7cdc34e4c9072917ca8e1300cc05108ac6d085178a0"
  },
  "kernelspec": {
   "display_name": "Python 3.7.9 64-bit ('base': conda)",
   "name": "python3"
  },
  "language_info": {
   "codemirror_mode": {
    "name": "ipython",
    "version": 3
   },
   "file_extension": ".py",
   "mimetype": "text/x-python",
   "name": "python",
   "nbconvert_exporter": "python",
   "pygments_lexer": "ipython3",
   "version": "3.7.9"
  },
  "orig_nbformat": 4
 },
 "nbformat": 4,
 "nbformat_minor": 2
}
