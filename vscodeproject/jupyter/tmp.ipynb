{
 "cells": [
  {
   "cell_type": "code",
   "execution_count": 26,
   "metadata": {},
   "outputs": [
    {
     "data": {
      "text/plain": [
       "(45, 44)"
      ]
     },
     "execution_count": 26,
     "metadata": {},
     "output_type": "execute_result"
    }
   ],
   "source": [
    "# 南璃 字段内容explode,转成多行\n",
    "def concatBarcodes(path):\n",
    "    import pandas as pd\n",
    "    import openpyxl\n",
    "    # /Users/huangjiyong/Desktop/大佬帮帮忙~.xlsx\n",
    "    tab = pd.read_excel(path)\n",
    "    tab['颜色'] = tab['颜色'].map(lambda x: x.split(','))\n",
    "    tab['规格'] = tab['规格'].map(lambda x: x.split(','))\n",
    "    tab = tab.explode('颜色') .explode('规格')\n",
    "    tab['条码'] = tab['商品'] + tab['颜色'] + tab['规格']\n",
    "    tab = tab.reset_index(drop=True)\n",
    "    writer = pd.ExcelWriter(path,engine = 'openpyxl') \n",
    "    book = openpyxl.load_workbook(writer.path)\n",
    "    writer.book = book\n",
    "    tab.to_excel(writer,index=False,sheet_name='条码')\n",
    "    writer.save()\n",
    "    writer.close()\n",
    "    return tab.shape\n",
    "concatBarcodes('/Users/huangjiyong/Desktop/大佬帮帮忙~.xlsx')"
   ]
  },
  {
   "cell_type": "code",
   "execution_count": 16,
   "metadata": {},
   "outputs": [],
   "source": []
  },
  {
   "cell_type": "code",
   "execution_count": 18,
   "metadata": {},
   "outputs": [],
   "source": []
  },
  {
   "cell_type": "code",
   "execution_count": 10,
   "metadata": {},
   "outputs": [],
   "source": [
    "import pandas as pd\n",
    "import random\n",
    "shop_info = {\n",
    "    '半自由': '上海尔叁品牌管理有限公司',\n",
    "    '英式': '上海英氏汇爱信息技术发展有限责任公司',\n",
    "    '海澜优选':'上海海澜生活电子商务有限公司',\n",
    "    'ENO&SJ': '上海依乐电子商务有限公司',\n",
    "    \n",
    "}\n",
    "plat = ['天猫', '京东', '拼多多', '快手', '抖音', '得物']\n",
    "data_time = ['2021-11-10', '2021-11-11']\n",
    "list_ = []\n",
    "for hour in range(1,25):\n",
    "    for key, value in shop_info.items():\n",
    "        data = [random.sample(data_time, 1)[0], hour, random.sample(plat, 1)[0], value, key, \n",
    "                random.randint(100 * hour, 1000 * hour), random.randint(10 * hour, 1000 * hour), \n",
    "                random.uniform(1000 * hour, 100000 * hour), 'root','2021-11-03 15:53:16.068785000','2021-11-03 15:53:16.068785000']\n",
    "        list_.append(data)\n",
    "tab = pd.DataFrame(list_,columns=['data_time', 'data_hours', 'plat', 'shop_name','brand', \n",
    "'sales', 'order_num',' transaction_amount', 'user', 'create_time', 'update_time'])\n",
    "import pymysql\n",
    "# con = pymysql.connect(host='121.37.136.201', port=3338, user='hlsh', passwd='o7XiNk#l', db='fill_in', charset='utf8')\n",
    "# tab.to_sql('double_eleven',con=con,if_exists='append')\n"
   ]
  },
  {
   "cell_type": "code",
   "execution_count": null,
   "metadata": {},
   "outputs": [],
   "source": []
  }
 ],
 "metadata": {
  "interpreter": {
   "hash": "b7742352b855fcc4ce05d7cdc34e4c9072917ca8e1300cc05108ac6d085178a0"
  },
  "kernelspec": {
   "display_name": "Python 3.7.9 64-bit ('base': conda)",
   "name": "python3"
  },
  "language_info": {
   "codemirror_mode": {
    "name": "ipython",
    "version": 3
   },
   "file_extension": ".py",
   "mimetype": "text/x-python",
   "name": "python",
   "nbconvert_exporter": "python",
   "pygments_lexer": "ipython3",
   "version": "3.7.9"
  },
  "orig_nbformat": 4
 },
 "nbformat": 4,
 "nbformat_minor": 2
}
