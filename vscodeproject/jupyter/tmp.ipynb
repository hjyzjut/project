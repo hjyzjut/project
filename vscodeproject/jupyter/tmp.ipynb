{
 "cells": [
  {
   "cell_type": "code",
   "execution_count": 26,
   "metadata": {},
   "outputs": [
    {
     "data": {
      "text/plain": [
       "(45, 44)"
      ]
     },
     "execution_count": 26,
     "metadata": {},
     "output_type": "execute_result"
    }
   ],
   "source": [
    "# 南璃 字段内容explode,转成多行\n",
    "def concatBarcodes(path):\n",
    "    import pandas as pd\n",
    "    import openpyxl\n",
    "    # /Users/huangjiyong/Desktop/大佬帮帮忙~.xlsx\n",
    "    tab = pd.read_excel(path)\n",
    "    tab['颜色'] = tab['颜色'].map(lambda x: x.split(','))\n",
    "    tab['规格'] = tab['规格'].map(lambda x: x.split(','))\n",
    "    tab = tab.explode('颜色') .explode('规格')\n",
    "    tab['条码'] = tab['商品'] + tab['颜色'] + tab['规格']\n",
    "    tab = tab.reset_index(drop=True)\n",
    "    writer = pd.ExcelWriter(path,engine = 'openpyxl') \n",
    "    book = openpyxl.load_workbook(writer.path)\n",
    "    writer.book = book\n",
    "    tab.to_excel(writer,index=False,sheet_name='条码')\n",
    "    writer.save()\n",
    "    writer.close()\n",
    "    return tab.shape\n",
    "concatBarcodes('/Users/huangjiyong/Desktop/大佬帮帮忙~.xlsx')"
   ]
  },
  {
   "cell_type": "code",
   "execution_count": 1,
   "metadata": {},
   "outputs": [],
   "source": [
    "import pandas as pd\n",
    "import random"
   ]
  },
  {
   "cell_type": "code",
   "execution_count": 45,
   "metadata": {},
   "outputs": [
    {
     "data": {
      "text/plain": [
       "(648, 14)"
      ]
     },
     "execution_count": 45,
     "metadata": {},
     "output_type": "execute_result"
    }
   ],
   "source": [
    "\n",
    "shop = pd.read_excel('shop_info.xlsx',header=None)\n",
    "data_time = ['2021-11-10', '2021-11-11']\n",
    "list_ = []\n",
    "for hour in range(1,25):\n",
    "    for value in shop.itertuples():\n",
    "        data = [random.sample(data_time, 1)[0], hour, value[1:][1], value[1:][2], value[1:][0], \n",
    "                random.randint(100 * hour, 1000 * hour), random.randint(10 * hour, 1000 * hour), \n",
    "                random.uniform(1000 * hour, 100000 * hour), \n",
    "                'root','2021-11-04 15:53:16.068785000','2021-11-04 15:53:16.068785000',\n",
    "                random.randint(10 * hour, 1000 * hour),random.uniform(10 * hour, 200 * hour), random.randint(10 * hour, 1000 * hour)\n",
    "                ]\n",
    "        list_.append(data)\n",
    "tab = pd.DataFrame(list_,columns=['data_time', 'data_hours', 'plat', 'shop_name','brand', \n",
    "'sales', 'order_num',' transaction_amount', 'user', 'create_time', 'update_time','unique_visitor','avg_transaction_val','customer_num'])\n"
   ]
  },
  {
   "cell_type": "markdown",
   "metadata": {},
   "source": [
    "## 日期序列"
   ]
  },
  {
   "cell_type": "code",
   "execution_count": 138,
   "metadata": {},
   "outputs": [],
   "source": [
    "import math, time, random, requests, json, datetime\n",
    "import pandas as pd\n",
    "import datetime\n",
    "from dateutil.relativedelta import relativedelta\n",
    "\n",
    "def dateRange(beginDate, endDate):\n",
    "    dates = []\n",
    "    dt = datetime.datetime.strptime(beginDate, \"%Y-%m-%d\")\n",
    "    date = beginDate[:]\n",
    "    while date <= endDate:\n",
    "        dates.append(date)\n",
    "        dt = dt + relativedelta(days=1)\n",
    "        date = dt.strftime(\"%Y-%m-%d\")\n",
    "    return dates"
   ]
  },
  {
   "cell_type": "markdown",
   "metadata": {},
   "source": [
    "## 获取天猫订单"
   ]
  },
  {
   "cell_type": "code",
   "execution_count": 86,
   "metadata": {},
   "outputs": [],
   "source": [
    "days = dateRange('2021-11-01','2021-11-14')\n",
    "\n",
    "def parse(header, day,page):\n",
    "\n",
    "    header = header\n",
    "    params = (\n",
    "        ('page', page),\n",
    "        ('pageSize', '100'),\n",
    "        ('dateType', 'day'),\n",
    "        ('dateRange', '{}|{}'.format(day, day)),\n",
    "        ('_', '1637025406340'),\n",
    "        ('token', '0d6e57571'),\n",
    "    )\n",
    "\n",
    "    response = requests.get('https://sycm.taobao.com/fa/trade/tradeDetail.json', headers=headers, params=params)\n",
    "    data = json.loads(str(response.content,'utf-8'))['data']\n",
    "    return data\n",
    "\n",
    "def get_json_data(days):\n",
    "    result = []\n",
    "    headers = {\n",
    "            'User-Agent': 'Mozilla/5.0 (Macintosh; Intel Mac OS X 10_15_7) AppleWebKit/537.36 (KHTML, like Gecko) Chrome/95.0.4638.69 Safari/537.36',\n",
    "            'cookie': 'enc=yIUTZTeWEu5lp6cbGqEOuUoaHrrQ5oBoPdVJabUHMNHhjZWVKosJ3bmlbWQbdXkyZNa5FG8%2FI7VPtvemKdQ8Vg%3D%3D; thw=cn; t=53e19c1df9706126d7df4b8a39053717; _tb_token_=IRcXLOvcT7zOCuTHZuU4; _samesite_flag_=true; cookie2=1326c42d421b0a22b67d4db93dde353d; xlly_s=1; cancelledSubSites=empty; _m_h5_tk=7f44ba0212ae31c594da32f478b38a50_1636971796505; _m_h5_tk_enc=ca7f7d7451251084f8f1f1b1a18b916c; XSRF-TOKEN=4f78334b-299d-4055-81ff-2d4722dd1fb4; sgcookie=E100oRBfKV9YXvCkcShcdEFNCJiET8kvqeJs955KNSDyJ%2Fs48Ftb5o9qeLi0y1jw0BFjkA1jwf6n4P3XZQTkKFz7mg%3D%3D; uc1=cookie14=Uoe3cO3WAwWBSQ%3D%3D&cookie21=V32FPkk%2FhSg%2F; unb=2212779745505; sn=burandoeno%E6%97%97%E8%88%B0%E5%BA%97%3Aray; csg=747e0fe4; skt=fbe9627b9bd3ddb1; _cc_=W5iHLLyFfA%3D%3D; _euacm_ac_l_uid_=2212779745505; 2212779745505_euacm_ac_c_uid_=1881680310; 2212779745505_euacm_ac_rs_uid_=1881680310; v=0; cna=kQvXGBS4RTECAToiIxw1oXsJ; _euacm_ac_rs_sid_=107459287; JSESSIONID=50D05780B09C048A4AE9CBD1AB72A2D4; tfstk=cychB6GpklsfMreihBNIWoUCVTHhZXfzmbls_jzsoukjsjGNit6N3-RWSkxXYT1..; l=fBOs-Q9rgm7U7_zMBOfZFurza77OSIRxjuPzaNbMi95POG5k5S2GW6BcFEYDC3GVFsYBR3WLw4aLBeYBcIAreYFT5g9-R2MmnmOk-Wf..; isg=BMbGp5qk20IKpY--2kkH59bEF7pIJwrhPbMcHrDvsunAs2bNGLda8axFi-9_KAL5',\n",
    "        }\n",
    "\n",
    "    for day in days:\n",
    "        \n",
    "        data_1 = parse(header=header, day=day, page=1)\n",
    "        result.append(data_1)\n",
    "        pages = math.ceil(data_1.get('recordCount')/100)\n",
    "        time.sleep(random.uniform(3,8))\n",
    "        for page in range(2,pages+1):\n",
    "            data = parse(header=header, day=day, page=page)\n",
    "            time.sleep(random.uniform(3,8))\n",
    "            result.append(data)\n",
    "    return result\n",
    "\n",
    "def get_order_info():\n",
    "    Eno = []\n",
    "    result = get_json_data(days)\n",
    "    for detail in result:\n",
    "        orders = detail.get('data')\n",
    "        for order in orders:\n",
    "            orderId = order.setdefault('orderId','-')\n",
    "\n",
    "            payFee = order.setdefault('payFee',-9999)\n",
    "            confirmFee = order.setdefault('confirmFee',-9999)\n",
    "\n",
    "            payTime = order.setdefault('payTime','-')\n",
    "            gmtCreateTime = order.setdefault('gmtCreateTime','-')\n",
    "            Eno.append([orderId, payFee, confirmFee, payTime, gmtCreateTime])\n",
    "    tab = pd.DataFrame(Eno, columns=['订单编号','支付金额', '确认收货金额','支付时间', '订单创建时间'])\n",
    "    return tab"
   ]
  },
  {
   "cell_type": "markdown",
   "metadata": {},
   "source": [
    "## oms订单和天猫后台订单对比"
   ]
  },
  {
   "cell_type": "code",
   "execution_count": 20,
   "metadata": {},
   "outputs": [],
   "source": [
    "# tab = get_order_info()\n",
    "tab = pd.read_csv('ENO-20211101_20211114.csv')\n",
    "oms_path = \"/Users/huangjiyong/Desktop/海澜/文档/云雀OMS/表格/订单管理 (2).xlsx\"\n",
    "oms = pd.read_excel(oms_path)\n",
    "oms_orderId = oms[['平台单号']].drop_duplicates(keep='first', inplace=False)\n",
    "list_oms_orderId = []\n",
    "for index, value in oms_orderId.itertuples():\n",
    "    if ',' in value:\n",
    "        split_ids = value.split(',')\n",
    "        for split_id in split_ids:\n",
    "            list_oms_orderId.append([value, split_id])\n",
    "    else:\n",
    "        list_oms_orderId.append([value, value])\n",
    "\n",
    "pd_oms_orderId = pd.DataFrame(list_oms_orderId, columns=['oms平台单号','订单编号'])\n",
    "# pd_merge_right = pd.merge(tab[['订单编号','订单创建时间']].astype(str), pd_oms_orderId, how='right', on='订单编号')"
   ]
  },
  {
   "cell_type": "code",
   "execution_count": 19,
   "metadata": {},
   "outputs": [
    {
     "data": {
      "text/html": [
       "<div>\n",
       "<style scoped>\n",
       "    .dataframe tbody tr th:only-of-type {\n",
       "        vertical-align: middle;\n",
       "    }\n",
       "\n",
       "    .dataframe tbody tr th {\n",
       "        vertical-align: top;\n",
       "    }\n",
       "\n",
       "    .dataframe thead th {\n",
       "        text-align: right;\n",
       "    }\n",
       "</style>\n",
       "<table border=\"1\" class=\"dataframe\">\n",
       "  <thead>\n",
       "    <tr style=\"text-align: right;\">\n",
       "      <th></th>\n",
       "      <th>订单编号</th>\n",
       "      <th>支付金额</th>\n",
       "      <th>确认收货金额</th>\n",
       "      <th>支付时间</th>\n",
       "      <th>订单创建时间</th>\n",
       "    </tr>\n",
       "  </thead>\n",
       "  <tbody>\n",
       "    <tr>\n",
       "      <th>837</th>\n",
       "      <td>1434480520041748364</td>\n",
       "      <td>934.59</td>\n",
       "      <td>0.0</td>\n",
       "      <td>2021-11-11 00:07:33</td>\n",
       "      <td>2021-11-11 00:00:11</td>\n",
       "    </tr>\n",
       "  </tbody>\n",
       "</table>\n",
       "</div>"
      ],
      "text/plain": [
       "                    订单编号    支付金额  确认收货金额                 支付时间  \\\n",
       "837  1434480520041748364  934.59     0.0  2021-11-11 00:07:33   \n",
       "\n",
       "                  订单创建时间  \n",
       "837  2021-11-11 00:00:11  "
      ]
     },
     "execution_count": 19,
     "metadata": {},
     "output_type": "execute_result"
    }
   ],
   "source": [
    "tab.loc[(tab['订单编号']==1434480520041748364)]"
   ]
  },
  {
   "cell_type": "code",
   "execution_count": 21,
   "metadata": {},
   "outputs": [],
   "source": [
    "pd_oms_orderId.to_excel('/Users/huangjiyong/Desktop/pd_oms_orderId.xlsx',index=False)\n",
    "tab.astype(str).to_excel('/Users/huangjiyong/Desktop/tab.xlsx',index=False)"
   ]
  },
  {
   "cell_type": "code",
   "execution_count": 12,
   "metadata": {},
   "outputs": [
    {
     "data": {
      "text/plain": [
       "((903, 2), (921, 5), (945, 3))"
      ]
     },
     "execution_count": 12,
     "metadata": {},
     "output_type": "execute_result"
    }
   ],
   "source": [
    "pd_oms_orderId.shape,tab.shape,pd_merge.shape"
   ]
  },
  {
   "cell_type": "markdown",
   "metadata": {},
   "source": [
    "## 经营分析模型-拼多多投放"
   ]
  },
  {
   "cell_type": "code",
   "execution_count": 5,
   "metadata": {},
   "outputs": [],
   "source": [
    "import pandas as pd\n",
    "path = '/Users/huangjiyong/Desktop/海澜/文档/报表/经营分析/数据处理/11月份/拼多多投放'\n",
    "bu_info = {\n",
    "    '优选八部':'海澜优选家居生活官方旗舰店',\n",
    "    '优选五部':'海澜优选HEILAN HOME生活电器旗舰店',\n",
    "    '优选三部':'海澜优选家纺官方旗舰店',\n",
    "    '自营部':'海澜优选HEILAN HOME官方旗舰店'\n",
    "}\n",
    "bu_info.get('自营部')\n",
    "import os,re\n",
    "launch = []\n",
    "for path, dir_list, file_list in os.walk(path):\n",
    "    for file in file_list:\n",
    "        tab = pd.read_excel(path+'/'+file)\n",
    "        brand = '海澜优选'\n",
    "        plat = '拼多多'\n",
    "        pattern = re.compile(r'（\\S+）')\n",
    "        channel = pattern.findall(file)[0][1:5]\n",
    "        bussness = file.split('_')[0]\n",
    "        for index, row in tab.iterrows():\n",
    "            launch.append([brand, bussness, plat, bu_info.get(bussness), channel, row['推广计划'],2021,11, '渠道花费', row['花费(元)'],'诗酒'])\n",
    "            launch.append([brand, bussness, plat, bu_info.get(bussness), channel, row['推广计划'],2021,11, '渠道成交金额', row['交易额（元）'],'诗酒'])\n",
    "            launch.append([brand, bussness, plat, bu_info.get(bussness), channel, row['推广计划'],2021,11, '点击量', row['点击量'],'诗酒'])\n",
    "            launch.append([brand, bussness, plat, bu_info.get(bussness), channel, row['推广计划'],2021,11, '展现量', row['曝光量'],'诗酒'])\n",
    "            launch.append([brand, bussness, plat, bu_info.get(bussness), channel, row['推广计划'],2021,11, '点击率', float(row['点击率'][:-1])/100,'诗酒'])\n",
    "pd_launch = pd.DataFrame(launch, columns=['品牌','事业部','电商平台','店铺','投放渠道','推广计划','数据时间-年','数据时间-月','指标名称','指标值','创建人'])\n",
    "pd_launch.to_excel('/Users/huangjiyong/Desktop/海澜/文档/报表/经营分析/数据处理/11月份/pd_launch.xlsx',index=False)"
   ]
  },
  {
   "cell_type": "code",
   "execution_count": null,
   "metadata": {},
   "outputs": [],
   "source": []
  }
 ],
 "metadata": {
  "interpreter": {
   "hash": "b7742352b855fcc4ce05d7cdc34e4c9072917ca8e1300cc05108ac6d085178a0"
  },
  "kernelspec": {
   "display_name": "Python 3.7.9 64-bit ('base': conda)",
   "name": "python3"
  },
  "language_info": {
   "codemirror_mode": {
    "name": "ipython",
    "version": 3
   },
   "file_extension": ".py",
   "mimetype": "text/x-python",
   "name": "python",
   "nbconvert_exporter": "python",
   "pygments_lexer": "ipython3",
   "version": "3.7.9"
  },
  "orig_nbformat": 4
 },
 "nbformat": 4,
 "nbformat_minor": 2
}
