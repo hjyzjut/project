{
 "cells": [
  {
   "cell_type": "code",
   "execution_count": 26,
   "metadata": {},
   "outputs": [
    {
     "data": {
      "text/plain": [
       "(45, 44)"
      ]
     },
     "execution_count": 26,
     "metadata": {},
     "output_type": "execute_result"
    }
   ],
   "source": [
    "# 南璃 字段内容explode,转成多行\n",
    "def concatBarcodes(path):\n",
    "    import pandas as pd\n",
    "    import openpyxl\n",
    "    # /Users/huangjiyong/Desktop/大佬帮帮忙~.xlsx\n",
    "    tab = pd.read_excel(path)\n",
    "    tab['颜色'] = tab['颜色'].map(lambda x: x.split(','))\n",
    "    tab['规格'] = tab['规格'].map(lambda x: x.split(','))\n",
    "    tab = tab.explode('颜色') .explode('规格')\n",
    "    tab['条码'] = tab['商品'] + tab['颜色'] + tab['规格']\n",
    "    tab = tab.reset_index(drop=True)\n",
    "    writer = pd.ExcelWriter(path,engine = 'openpyxl') \n",
    "    book = openpyxl.load_workbook(writer.path)\n",
    "    writer.book = book\n",
    "    tab.to_excel(writer,index=False,sheet_name='条码')\n",
    "    writer.save()\n",
    "    writer.close()\n",
    "    return tab.shape\n",
    "concatBarcodes('/Users/huangjiyong/Desktop/大佬帮帮忙~.xlsx')"
   ]
  },
  {
   "cell_type": "code",
   "execution_count": 2,
   "metadata": {},
   "outputs": [],
   "source": [
    "import pandas as pd"
   ]
  },
  {
   "cell_type": "code",
   "execution_count": 3,
   "metadata": {},
   "outputs": [],
   "source": [
    "tab = pd.read_excel('/Users/huangjiyong/coding/project/vscodeproject/jupyter/tmpCoding/模版-GMV周实际.xlsx')"
   ]
  },
  {
   "cell_type": "code",
   "execution_count": 4,
   "metadata": {},
   "outputs": [
    {
     "data": {
      "text/plain": [
       "Index(['事业部', '业务类型', '经营主体', '品牌', '类目', '渠道', '入参日期', '年度', '周数', 'GMV'], dtype='object')"
      ]
     },
     "execution_count": 4,
     "metadata": {},
     "output_type": "execute_result"
    }
   ],
   "source": [
    "tab.columns"
   ]
  },
  {
   "cell_type": "code",
   "execution_count": null,
   "metadata": {},
   "outputs": [],
   "source": []
  }
 ],
 "metadata": {
  "interpreter": {
   "hash": "b7742352b855fcc4ce05d7cdc34e4c9072917ca8e1300cc05108ac6d085178a0"
  },
  "kernelspec": {
   "display_name": "Python 3.7.9 64-bit ('base': conda)",
   "name": "python3"
  },
  "language_info": {
   "codemirror_mode": {
    "name": "ipython",
    "version": 3
   },
   "file_extension": ".py",
   "mimetype": "text/x-python",
   "name": "python",
   "nbconvert_exporter": "python",
   "pygments_lexer": "ipython3",
   "version": "3.7.9"
  },
  "orig_nbformat": 4
 },
 "nbformat": 4,
 "nbformat_minor": 2
}
