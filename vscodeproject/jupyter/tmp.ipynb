{
 "cells": [
  {
   "cell_type": "code",
   "execution_count": 26,
   "metadata": {},
   "outputs": [
    {
     "data": {
      "text/plain": [
       "(45, 44)"
      ]
     },
     "execution_count": 26,
     "metadata": {},
     "output_type": "execute_result"
    }
   ],
   "source": [
    "# 南璃 字段内容explode,转成多行\n",
    "def concatBarcodes(path):\n",
    "    import pandas as pd\n",
    "    import openpyxl\n",
    "    # /Users/huangjiyong/Desktop/大佬帮帮忙~.xlsx\n",
    "    tab = pd.read_excel(path)\n",
    "    tab['颜色'] = tab['颜色'].map(lambda x: x.split(','))\n",
    "    tab['规格'] = tab['规格'].map(lambda x: x.split(','))\n",
    "    tab = tab.explode('颜色') .explode('规格')\n",
    "    tab['条码'] = tab['商品'] + tab['颜色'] + tab['规格']\n",
    "    tab = tab.reset_index(drop=True)\n",
    "    writer = pd.ExcelWriter(path,engine = 'openpyxl') \n",
    "    book = openpyxl.load_workbook(writer.path)\n",
    "    writer.book = book\n",
    "    tab.to_excel(writer,index=False,sheet_name='条码')\n",
    "    writer.save()\n",
    "    writer.close()\n",
    "    return tab.shape\n",
    "concatBarcodes('/Users/huangjiyong/Desktop/大佬帮帮忙~.xlsx')"
   ]
  },
  {
   "cell_type": "code",
   "execution_count": 45,
   "metadata": {},
   "outputs": [
    {
     "data": {
      "text/plain": [
       "(648, 14)"
      ]
     },
     "execution_count": 45,
     "metadata": {},
     "output_type": "execute_result"
    }
   ],
   "source": [
    "import pandas as pd\n",
    "import random\n",
    "shop = pd.read_excel('shop_info.xlsx',header=None)\n",
    "data_time = ['2021-11-10', '2021-11-11']\n",
    "list_ = []\n",
    "for hour in range(1,25):\n",
    "    for value in shop.itertuples():\n",
    "        data = [random.sample(data_time, 1)[0], hour, value[1:][1], value[1:][2], value[1:][0], \n",
    "                random.randint(100 * hour, 1000 * hour), random.randint(10 * hour, 1000 * hour), \n",
    "                random.uniform(1000 * hour, 100000 * hour), \n",
    "                'root','2021-11-04 15:53:16.068785000','2021-11-04 15:53:16.068785000',\n",
    "                random.randint(10 * hour, 1000 * hour),random.uniform(10 * hour, 200 * hour), random.randint(10 * hour, 1000 * hour)\n",
    "                ]\n",
    "        list_.append(data)\n",
    "tab = pd.DataFrame(list_,columns=['data_time', 'data_hours', 'plat', 'shop_name','brand', \n",
    "'sales', 'order_num',' transaction_amount', 'user', 'create_time', 'update_time','unique_visitor','avg_transaction_val','customer_num'])\n",
    "tab.shape\n",
    "# con = pymysql.connect(host='121.37.136.201', port=3338, user='hlsh', passwd='o7XiNk#l', db='fill_in', charset='utf8')\n",
    "# tab.to_sql('double_eleven',con=con,if_exists='append')\n"
   ]
  },
  {
   "cell_type": "code",
   "execution_count": 47,
   "metadata": {},
   "outputs": [],
   "source": [
    "tab.to_csv('11.csv', index=False)"
   ]
  },
  {
   "cell_type": "code",
   "execution_count": 46,
   "metadata": {},
   "outputs": [
    {
     "data": {
      "text/plain": [
       "<bound method NDFrame.head of       data_time  data_hours plat      shop_name   brand  sales  order_num  \\\n",
       "0    2021-11-10           1  拼多多      海澜优选优赏专卖店    海澜优选    619        468   \n",
       "1    2021-11-10           1  拼多多    海澜优选内衣官方旗舰店    海澜优选    986         12   \n",
       "2    2021-11-10           1  拼多多    海澜优选家纺官方旗舰店    海澜优选    467        464   \n",
       "3    2021-11-11           1  拼多多    海澜优选家居生活旗舰店    海澜优选    904        753   \n",
       "4    2021-11-11           1   天猫        海澜优选正品店    海澜优选    514        561   \n",
       "..          ...         ...  ...            ...     ...    ...        ...   \n",
       "643  2021-11-11          24   天猫         半自由旗舰店     半自由   5993       4714   \n",
       "644  2021-11-11          24   京东         半自由旗舰店     半自由  16605       4307   \n",
       "645  2021-11-11          24   抖音         半自由旗舰店     半自由  10004       7767   \n",
       "646  2021-11-11          24   快手         半自由旗舰店     半自由   2642       8409   \n",
       "647  2021-11-11          24   天猫  burandoeno旗舰店  ENO&SJ  21082       6686   \n",
       "\n",
       "      transaction_amount  user                    create_time  \\\n",
       "0           8.107080e+03  root  2021-11-04 15:53:16.068785000   \n",
       "1           4.193123e+04  root  2021-11-04 15:53:16.068785000   \n",
       "2           6.000151e+04  root  2021-11-04 15:53:16.068785000   \n",
       "3           9.920640e+04  root  2021-11-04 15:53:16.068785000   \n",
       "4           9.247201e+04  root  2021-11-04 15:53:16.068785000   \n",
       "..                   ...   ...                            ...   \n",
       "643         1.485188e+06  root  2021-11-04 15:53:16.068785000   \n",
       "644         7.300237e+05  root  2021-11-04 15:53:16.068785000   \n",
       "645         3.063587e+05  root  2021-11-04 15:53:16.068785000   \n",
       "646         2.271510e+06  root  2021-11-04 15:53:16.068785000   \n",
       "647         2.343677e+06  root  2021-11-04 15:53:16.068785000   \n",
       "\n",
       "                       update_time  unique_visitor  avg_transaction_val  \\\n",
       "0    2021-11-04 15:53:16.068785000             938           176.301559   \n",
       "1    2021-11-04 15:53:16.068785000             291            82.007460   \n",
       "2    2021-11-04 15:53:16.068785000             584            42.379936   \n",
       "3    2021-11-04 15:53:16.068785000             867           190.435843   \n",
       "4    2021-11-04 15:53:16.068785000              29           135.243110   \n",
       "..                             ...             ...                  ...   \n",
       "643  2021-11-04 15:53:16.068785000           20236          4520.647198   \n",
       "644  2021-11-04 15:53:16.068785000            4992          3851.785203   \n",
       "645  2021-11-04 15:53:16.068785000            5413          3894.860472   \n",
       "646  2021-11-04 15:53:16.068785000            3986           243.833968   \n",
       "647  2021-11-04 15:53:16.068785000           11799          1308.131720   \n",
       "\n",
       "     customer_num  \n",
       "0             638  \n",
       "1             125  \n",
       "2              99  \n",
       "3             332  \n",
       "4             129  \n",
       "..            ...  \n",
       "643         23158  \n",
       "644         18649  \n",
       "645         12593  \n",
       "646         14609  \n",
       "647          5334  \n",
       "\n",
       "[648 rows x 14 columns]>"
      ]
     },
     "execution_count": 46,
     "metadata": {},
     "output_type": "execute_result"
    }
   ],
   "source": []
  },
  {
   "cell_type": "code",
   "execution_count": 44,
   "metadata": {},
   "outputs": [
    {
     "name": "stdout",
     "output_type": "stream",
     "text": [
      "('海澜优选', '拼多多', '海澜优选优赏专卖店')\n"
     ]
    }
   ],
   "source": [
    "for value in shop.itertuples():\n",
    "    print(value[1:])\n",
    "    break"
   ]
  },
  {
   "cell_type": "code",
   "execution_count": null,
   "metadata": {},
   "outputs": [],
   "source": []
  }
 ],
 "metadata": {
  "interpreter": {
   "hash": "b7742352b855fcc4ce05d7cdc34e4c9072917ca8e1300cc05108ac6d085178a0"
  },
  "kernelspec": {
   "display_name": "Python 3.7.9 64-bit ('base': conda)",
   "name": "python3"
  },
  "language_info": {
   "codemirror_mode": {
    "name": "ipython",
    "version": 3
   },
   "file_extension": ".py",
   "mimetype": "text/x-python",
   "name": "python",
   "nbconvert_exporter": "python",
   "pygments_lexer": "ipython3",
   "version": "3.7.9"
  },
  "orig_nbformat": 4
 },
 "nbformat": 4,
 "nbformat_minor": 2
}
