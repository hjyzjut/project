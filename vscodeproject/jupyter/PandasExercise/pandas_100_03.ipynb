{
 "cells": [
  {
   "cell_type": "code",
   "execution_count": 9,
   "metadata": {},
   "outputs": [],
   "source": [
    "import pandas as pd\n",
    "import numpy as np\n",
    "# 来源:https://www.jianshu.com/p/3f3c0fb8fa4e"
   ]
  },
  {
   "cell_type": "code",
   "execution_count": 2,
   "metadata": {},
   "outputs": [],
   "source": [
    "# 29.存在一组数据X[7, 2, 0, 3, 4, 2, 5, 0, 3, 4]生成一个新列，新列的元素为距离前一个0\n",
    "# 数据\n",
    "df = pd.DataFrame({'X': [7, 2, 0, 3, 4, 2, 5, 0, 3, 4]})"
   ]
  },
  {
   "cell_type": "code",
   "execution_count": 3,
   "metadata": {},
   "outputs": [],
   "source": [
    "# 答案\n",
    "# 首先算出到目前为止 一共出现了几个0 由下图可知一共有三种情况\n",
    "count_0 = (df['X'] == 0).cumsum()\n",
    "\n",
    "# 根据count_0对X进行分组 可以分为3组\n",
    "# 再根据 cumsum() 算出每组数据的在组内的索引(位置)\n",
    "df['Y'] = df.groupby(count_0).cumcount()\n",
    "\n",
    "# 可以看到除了第一组数据不符合预期 其他组的数据都符合预期 \n",
    "# 需要对第一组的每个值都+1\n",
    "# 找到第一组的结束位置，对这个位置之前的所有值都+1\n",
    "first_zero_idx = (df['X'] == 0).idxmax()\n",
    "df['Y'].iloc[0:first_zero_idx] += 1"
   ]
  },
  {
   "cell_type": "code",
   "execution_count": 10,
   "metadata": {},
   "outputs": [],
   "source": [
    "# 30.求出最大的三个值的索引位置\n",
    "df = pd.DataFrame(np.random.RandomState(30).randint(1, 101, size=(8, 8)))"
   ]
  },
  {
   "cell_type": "code",
   "execution_count": 7,
   "metadata": {},
   "outputs": [
    {
     "data": {
      "text/plain": [
       "0    False\n",
       "1    False\n",
       "2     True\n",
       "3    False\n",
       "4    False\n",
       "5    False\n",
       "6    False\n",
       "7     True\n",
       "8    False\n",
       "9    False\n",
       "Name: X, dtype: bool"
      ]
     },
     "execution_count": 7,
     "metadata": {},
     "output_type": "execute_result"
    }
   ],
   "source": [
    "df['X'] == 0"
   ]
  },
  {
   "cell_type": "code",
   "execution_count": null,
   "metadata": {},
   "outputs": [],
   "source": []
  }
 ],
 "metadata": {
  "interpreter": {
   "hash": "b7742352b855fcc4ce05d7cdc34e4c9072917ca8e1300cc05108ac6d085178a0"
  },
  "kernelspec": {
   "display_name": "Python 3.7.9 64-bit ('base': conda)",
   "name": "python3"
  },
  "language_info": {
   "codemirror_mode": {
    "name": "ipython",
    "version": 3
   },
   "file_extension": ".py",
   "mimetype": "text/x-python",
   "name": "python",
   "nbconvert_exporter": "python",
   "pygments_lexer": "ipython3",
   "version": "3.7.9"
  },
  "orig_nbformat": 4
 },
 "nbformat": 4,
 "nbformat_minor": 2
}
