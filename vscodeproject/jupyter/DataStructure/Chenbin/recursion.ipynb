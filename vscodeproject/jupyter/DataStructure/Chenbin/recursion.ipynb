{
 "cells": [
  {
   "cell_type": "markdown",
   "metadata": {},
   "source": [
    "## 递归"
   ]
  },
  {
   "cell_type": "markdown",
   "metadata": {},
   "source": [
    "数列求和"
   ]
  },
  {
   "cell_type": "code",
   "execution_count": 1,
   "metadata": {},
   "outputs": [],
   "source": [
    "# 普通版\n",
    "def listsum1(numList):\n",
    "    theSum = 0\n",
    "    for i in numList:\n",
    "        theSum = theSum + i\n",
    "    return theSum\n",
    "\n",
    "# 递归版\n",
    "def listsum2(numList):\n",
    "    if len(numList) == 1:\n",
    "        return numList[0]\n",
    "    else:\n",
    "        return numList[0] + listsum2(numList[1:])"
   ]
  },
  {
   "cell_type": "markdown",
   "metadata": {},
   "source": [
    "整数转换为任意制"
   ]
  },
  {
   "cell_type": "code",
   "execution_count": 2,
   "metadata": {},
   "outputs": [
    {
     "data": {
      "text/plain": [
       "'5AD'"
      ]
     },
     "execution_count": 2,
     "metadata": {},
     "output_type": "execute_result"
    }
   ],
   "source": [
    "def toStr(n, base):\n",
    "    convertString = \"0123456789ABCDEF\"\n",
    "    if n < base:\n",
    "        return convertString[n]\n",
    "    else:\n",
    "        return toStr(n//base, base) + convertString[n%base]\n",
    "toStr(1453,16)"
   ]
  },
  {
   "cell_type": "code",
   "execution_count": 1,
   "metadata": {},
   "outputs": [
    {
     "data": {
      "text/plain": [
       "3000"
      ]
     },
     "execution_count": 1,
     "metadata": {},
     "output_type": "execute_result"
    }
   ],
   "source": [
    "import sys\n",
    "import turtle\n",
    "sys.getrecursionlimit() #   最大递归深度"
   ]
  },
  {
   "cell_type": "markdown",
   "metadata": {},
   "source": [
    "### 海龟作图：五角星"
   ]
  },
  {
   "cell_type": "code",
   "execution_count": 4,
   "metadata": {},
   "outputs": [],
   "source": [
    "\n",
    "t = turtle.Turtle()\n",
    "\n",
    "t.pencolor('red')\n",
    "t.pensize(3)\n",
    "for i in range(5):\n",
    "    t.forward(100)\n",
    "    t.right(144)\n",
    "t.hideturtle()\n",
    "turtle.done()"
   ]
  },
  {
   "cell_type": "markdown",
   "metadata": {},
   "source": [
    "### 海龟作图：螺旋"
   ]
  },
  {
   "cell_type": "code",
   "execution_count": 3,
   "metadata": {},
   "outputs": [],
   "source": [
    "t1 = turtle.Turtle()\n",
    "\n",
    "def drawSpiral(t1, lineLen):\n",
    "    if lineLen > 0:\n",
    "        t1.forward(lineLen)\n",
    "        t1.right(90)\n",
    "        drawSpiral(t1, lineLen-5)\n",
    "\n",
    "drawSpiral(t1,100)\n",
    "turtle.done()"
   ]
  },
  {
   "cell_type": "markdown",
   "metadata": {},
   "source": [
    "### 分形图"
   ]
  },
  {
   "cell_type": "code",
   "execution_count": 6,
   "metadata": {},
   "outputs": [],
   "source": [
    "def tree(t,branch_len):\n",
    "    if branch_len > 5:  #   树干太短不画，即递归结束条件\n",
    "        t.forward(branch_len)   #   画树干\n",
    "        t.right(20) #   右倾斜20度\n",
    "        tree(t, branch_len - 15)\n",
    "        t.left(40)  #   向左回40度，即左倾斜20度\n",
    "        tree(t, branch_len - 15)\n",
    "        t.right(20) #   回正\n",
    "        t.backward(branch_len)  # 退回原位\n",
    "\n",
    "t2 = turtle.Turtle()\n",
    "t2.left(90)\n",
    "t2.penup()\n",
    "t2.backward(100)\n",
    "t2.pendown()\n",
    "t2.pencolor('green')\n",
    "t2.pensize(2)\n",
    "tree(t2,75)\n",
    "t2.hideturtle()\n",
    "turtle.done()"
   ]
  },
  {
   "cell_type": "markdown",
   "metadata": {},
   "source": [
    "### 谢尔宾斯基三角形"
   ]
  },
  {
   "cell_type": "code",
   "execution_count": 2,
   "metadata": {},
   "outputs": [],
   "source": [
    "def drawTriangle(point, color):\n",
    "    \"\"\"\n",
    "    绘制等边三角形\n",
    "    \"\"\"\n",
    "    t.fillcolor(color)\n",
    "    t.penup()\n",
    "    t.goto(point['top'])\n",
    "    t.pendown()\n",
    "    t.begin_fill()\n",
    "    t.goto(point['left'])\n",
    "    t.goto(point['right'])\n",
    "    t.goto(point['top'])\n",
    "    t.end_fill()\n",
    "\n",
    "def getMid(p1,p2):\n",
    "    # 取两个点的中点\n",
    "    return ((p1[0] + p2[0]) / 2, (p1[1] + p2[1]) / 2)\n",
    "\n",
    "def sierpinski(degree, points):\n",
    "    colormap = ['blue', 'red', 'green', 'white', 'yellow', 'orange']\n",
    "    drawTriangle(points,colormap[degree])\n",
    "\n",
    "    if degree > 0:\n",
    "        sierpinski(degree - 1,\n",
    "                    {\n",
    "                        'left': points['left'],\n",
    "                        'top': getMid(points['left'], points['top']),\n",
    "                        'right': getMid(points['left'], points['right'])\n",
    "                    })\n",
    "        sierpinski(degree - 1,\n",
    "                    {\n",
    "                        'left': getMid(points['left'], points['top']),\n",
    "                        'top':  points['top'],\n",
    "                        'right': getMid(points['top'], points['right'])\n",
    "                    }\n",
    "                    )\n",
    "        sierpinski(degree - 1,\n",
    "                    {\n",
    "                        'left': getMid(points['left'], points['right']),\n",
    "                        'top':  getMid(points['top'], points['right']),\n",
    "                        'right': points['right'],\n",
    "                    }\n",
    "                    )\n",
    "\n",
    "t = turtle.Turtle()\n",
    "\n",
    "points = {\n",
    "    'left': (-200, -100),\n",
    "    'top': (0, 200),\n",
    "    'right': (200, -100) \n",
    "}\n",
    "sierpinski(5,points)\n",
    "turtle.done()"
   ]
  },
  {
   "cell_type": "markdown",
   "metadata": {},
   "source": [
    "## 汉诺塔"
   ]
  },
  {
   "cell_type": "code",
   "execution_count": 2,
   "metadata": {},
   "outputs": [
    {
     "name": "stdout",
     "output_type": "stream",
     "text": [
      "Moving disk[1] from #1 to #3\n",
      "Moving disk[2] from #1 to #2\n",
      "Moving disk[1] from #3 to #2\n",
      "Moving disk[3] from #1 to #3\n",
      "Moving disk[1] from #2 to #1\n",
      "Moving disk[2] from #2 to #3\n",
      "Moving disk[1] from #1 to #3\n"
     ]
    }
   ],
   "source": [
    "def moveTower(height, fromPole, withPole, toPole):\n",
    "    if height >= 1:\n",
    "        moveTower(height-1, fromPole, toPole, withPole)\n",
    "        moveDisk(height, fromPole, toPole)\n",
    "        moveTower(height-1, withPole, fromPole, toPole)\n",
    "\n",
    "def moveDisk(disk, fromPole, toPole):\n",
    "    print(f\"Moving disk[{disk}] from {fromPole} to {toPole}\")\n",
    "\n",
    "moveTower(3, \"#1\", \"#2\", \"#3\")"
   ]
  },
  {
   "cell_type": "markdown",
   "metadata": {},
   "source": [
    "## 探索迷宫"
   ]
  },
  {
   "cell_type": "code",
   "execution_count": 3,
   "metadata": {},
   "outputs": [],
   "source": [
    "class Maze:\n",
    "    def __init__(self, mazeFileName) -> None:\n",
    "        rowsInMaze = 0\n",
    "        columnsInMaze = 0\n",
    "        self.mazelist = []\n",
    "        mazeFile = open(mazeFileName, 'r')\n",
    "        rowsInMaze = 0\n",
    "        for line in mazeFile:\n",
    "            rowList = []\n",
    "            col = 0\n",
    "            for ch in line[:-1]:\n",
    "                rowList.append(ch)\n",
    "                if ch == 'S':\n",
    "                    self.startRow = rowsInMaze\n",
    "                    self.startCol = col\n",
    "                col = col + 1\n",
    "            rowsInMaze = rowsInMaze + 1\n",
    "            self.mazelist.append(rowList)   #   保存矩阵\n",
    "            columnsInMaze = len(rowList)\n"
   ]
  },
  {
   "cell_type": "code",
   "execution_count": 4,
   "metadata": {},
   "outputs": [],
   "source": [
    "def searchFrom(maze, startRow, startColumn):\n",
    "    #   1.碰到墙壁，返回失败\n",
    "    maze.updatePosition(startRow, startColumn)\n",
    "    if maze[startRow][startColumn] == '+':\n",
    "        return False\n",
    "    #   2.碰到标记过的点\n",
    "    if maze[startRow][startColumn] == '.':\n",
    "        return False\n",
    "    \n",
    "    #   3.碰到了边缘出口，做个标记\n",
    "    if maze.isExit(startRow, startColumn):\n",
    "        maze.updatePosition(startRow, startColumn, '.')\n",
    "        return True\n",
    "    \n",
    "    #   4.可以走的通道，做个标记\n",
    "    maze.updatePosition(startRow, startColumn, '.')\n",
    "\n",
    "    found = searchFrom(maze, startRow-1, startColumn) or searchFrom(maze, startRow, startColumn-1)\\\n",
    "            or searchFrom(maze, startRow+1, startColumn-1) or searchFrom(maze, startRow, startColumn+1)\n",
    "    #   判断是否成功\n",
    "    if found:\n",
    "        maze.updatePosition(startRow, startColumn, '.')\n",
    "    else:\n",
    "        maze.updatePosition(startRow, startColumn, '死胡同')\n",
    "    return found"
   ]
  },
  {
   "cell_type": "markdown",
   "metadata": {},
   "source": [
    "## 找零兑换问题\n",
    "兑换最少个数的硬币问题"
   ]
  },
  {
   "cell_type": "code",
   "execution_count": 5,
   "metadata": {},
   "outputs": [
    {
     "data": {
      "text/plain": [
       "6"
      ]
     },
     "execution_count": 5,
     "metadata": {},
     "output_type": "execute_result"
    }
   ],
   "source": [
    "def recMC(coinValueList, change):\n",
    "    minCoins = change\n",
    "    if change in coinValueList: #   最小规模，直接返回\n",
    "        return 1\n",
    "    else:\n",
    "        for i in [c for c in coinValueList if c <= change]:\n",
    "            numCoins = 1 + recMC(coinValueList, change-i)\n",
    "            if numCoins < minCoins:\n",
    "                minCoins = numCoins\n",
    "\n",
    "    return minCoins\n",
    "recMC([1, 5, 10, 25], 63)"
   ]
  },
  {
   "cell_type": "code",
   "execution_count": 9,
   "metadata": {},
   "outputs": [
    {
     "data": {
      "text/plain": [
       "6"
      ]
     },
     "execution_count": 9,
     "metadata": {},
     "output_type": "execute_result"
    }
   ],
   "source": [
    "# 递归优化，避免重复计算\n",
    "def recDC(coinValueList, change, knownResults):\n",
    "    minCoins = change\n",
    "    if change in coinValueList:\n",
    "        knownResults[change] = 1 #   记录最优解\n",
    "        return 1\n",
    "    elif knownResults[change] > 0:\n",
    "        return knownResults[change]  #   查表成功，直接用最优解\n",
    "    else:\n",
    "        for i in [c for c in coinValueList if c <= change]:\n",
    "            numCoins = 1 + recDC(coinValueList, change-i, knownResults)\n",
    "            if numCoins < minCoins:\n",
    "                minCoins = numCoins\n",
    "                #   找到最优解，记录到表中\n",
    "                knownResults[change] = minCoins\n",
    "\n",
    "    return minCoins\n",
    "\n",
    "recDC([1, 5, 10, 25], 63, [0]*64)\n"
   ]
  },
  {
   "cell_type": "code",
   "execution_count": 13,
   "metadata": {},
   "outputs": [
    {
     "data": {
      "text/plain": [
       "3"
      ]
     },
     "execution_count": 13,
     "metadata": {},
     "output_type": "execute_result"
    }
   ],
   "source": [
    "# 动态规划解法\n",
    "def dpMakeChange(coinValueList, change, minCoins):\n",
    "    # 从1分开始到change逐个计算最少\n",
    "    for cents in range(1, change + 1):\n",
    "        # 1.初始化一个最大值\n",
    "        coinCount = cents\n",
    "        # 2.减去每个硬币，向后查最少硬币数，同时记录总的最少数\n",
    "        for j in [c for c in coinValueList if c <= cents]:\n",
    "            if minCoins[cents - j] + 1 < coinCount:\n",
    "                coinCount = minCoins[cents - j] + 1\n",
    "        # 3.得到当前最少硬币数，记录到表中\n",
    "        minCoins[cents] = coinCount\n",
    "    \n",
    "    # 返回最后一个结果\n",
    "    return minCoins[change]\n",
    "\n",
    "dpMakeChange([1, 5, 10, 21, 25], 63, [0]*64)"
   ]
  },
  {
   "cell_type": "code",
   "execution_count": null,
   "metadata": {},
   "outputs": [],
   "source": []
  }
 ],
 "metadata": {
  "interpreter": {
   "hash": "b7742352b855fcc4ce05d7cdc34e4c9072917ca8e1300cc05108ac6d085178a0"
  },
  "kernelspec": {
   "display_name": "Python 3.7.9 64-bit ('base': conda)",
   "name": "python3"
  },
  "language_info": {
   "codemirror_mode": {
    "name": "ipython",
    "version": 3
   },
   "file_extension": ".py",
   "mimetype": "text/x-python",
   "name": "python",
   "nbconvert_exporter": "python",
   "pygments_lexer": "ipython3",
   "version": "3.7.9"
  },
  "orig_nbformat": 4
 },
 "nbformat": 4,
 "nbformat_minor": 2
}
