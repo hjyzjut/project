{
 "cells": [
  {
   "cell_type": "markdown",
   "metadata": {},
   "source": [
    "## 递归"
   ]
  },
  {
   "cell_type": "markdown",
   "metadata": {},
   "source": [
    "数列求和"
   ]
  },
  {
   "cell_type": "code",
   "execution_count": 1,
   "metadata": {},
   "outputs": [],
   "source": [
    "# 普通版\n",
    "def listsum1(numList):\n",
    "    theSum = 0\n",
    "    for i in numList:\n",
    "        theSum = theSum + i\n",
    "    return theSum\n",
    "\n",
    "# 递归版\n",
    "def listsum2(numList):\n",
    "    if len(numList) == 1:\n",
    "        return numList[0]\n",
    "    else:\n",
    "        return numList[0] + listsum2(numList[1:])"
   ]
  },
  {
   "cell_type": "markdown",
   "metadata": {},
   "source": [
    "整数转换为任意制"
   ]
  },
  {
   "cell_type": "code",
   "execution_count": 2,
   "metadata": {},
   "outputs": [
    {
     "data": {
      "text/plain": [
       "'5AD'"
      ]
     },
     "execution_count": 2,
     "metadata": {},
     "output_type": "execute_result"
    }
   ],
   "source": [
    "def toStr(n, base):\n",
    "    convertString = \"0123456789ABCDEF\"\n",
    "    if n < base:\n",
    "        return convertString[n]\n",
    "    else:\n",
    "        return toStr(n//base, base) + convertString[n%base]\n",
    "toStr(1453,16)"
   ]
  },
  {
   "cell_type": "code",
   "execution_count": 1,
   "metadata": {},
   "outputs": [
    {
     "data": {
      "text/plain": [
       "3000"
      ]
     },
     "execution_count": 1,
     "metadata": {},
     "output_type": "execute_result"
    }
   ],
   "source": [
    "import sys\n",
    "import turtle\n",
    "sys.getrecursionlimit() #   最大递归深度"
   ]
  },
  {
   "cell_type": "markdown",
   "metadata": {},
   "source": [
    "### 海龟作图：五角星"
   ]
  },
  {
   "cell_type": "code",
   "execution_count": 4,
   "metadata": {},
   "outputs": [],
   "source": [
    "\n",
    "t = turtle.Turtle()\n",
    "\n",
    "t.pencolor('red')\n",
    "t.pensize(3)\n",
    "for i in range(5):\n",
    "    t.forward(100)\n",
    "    t.right(144)\n",
    "t.hideturtle()\n",
    "turtle.done()"
   ]
  },
  {
   "cell_type": "markdown",
   "metadata": {},
   "source": [
    "### 海龟作图：螺旋"
   ]
  },
  {
   "cell_type": "code",
   "execution_count": 3,
   "metadata": {},
   "outputs": [],
   "source": [
    "t1 = turtle.Turtle()\n",
    "\n",
    "def drawSpiral(t1, lineLen):\n",
    "    if lineLen > 0:\n",
    "        t1.forward(lineLen)\n",
    "        t1.right(90)\n",
    "        drawSpiral(t1, lineLen-5)\n",
    "\n",
    "drawSpiral(t1,100)\n",
    "turtle.done()"
   ]
  },
  {
   "cell_type": "markdown",
   "metadata": {},
   "source": [
    "### 分形图"
   ]
  },
  {
   "cell_type": "code",
   "execution_count": 6,
   "metadata": {},
   "outputs": [],
   "source": [
    "def tree(t,branch_len):\n",
    "    if branch_len > 5:  #   树干太短不画，即递归结束条件\n",
    "        t.forward(branch_len)   #   画树干\n",
    "        t.right(20) #   右倾斜20度\n",
    "        tree(t, branch_len - 15)\n",
    "        t.left(40)  #   向左回40度，即左倾斜20度\n",
    "        tree(t, branch_len - 15)\n",
    "        t.right(20) #   回正\n",
    "        t.backward(branch_len)  # 退回原位\n",
    "\n",
    "t2 = turtle.Turtle()\n",
    "t2.left(90)\n",
    "t2.penup()\n",
    "t2.backward(100)\n",
    "t2.pendown()\n",
    "t2.pencolor('green')\n",
    "t2.pensize(2)\n",
    "tree(t2,75)\n",
    "t2.hideturtle()\n",
    "turtle.done()"
   ]
  },
  {
   "cell_type": "markdown",
   "metadata": {},
   "source": [
    "### 谢尔宾斯基三角形"
   ]
  },
  {
   "cell_type": "code",
   "execution_count": 2,
   "metadata": {},
   "outputs": [],
   "source": [
    "def drawTriangle(point, color):\n",
    "    \"\"\"\n",
    "    绘制等边三角形\n",
    "    \"\"\"\n",
    "    t.fillcolor(color)\n",
    "    t.penup()\n",
    "    t.goto(point['top'])\n",
    "    t.pendown()\n",
    "    t.begin_fill()\n",
    "    t.goto(point['left'])\n",
    "    t.goto(point['right'])\n",
    "    t.goto(point['top'])\n",
    "    t.end_fill()\n",
    "\n",
    "def getMid(p1,p2):\n",
    "    # 取两个点的中点\n",
    "    return ((p1[0] + p2[0]) / 2, (p1[1] + p2[1]) / 2)\n",
    "\n",
    "def sierpinski(degree, points):\n",
    "    colormap = ['blue', 'red', 'green', 'white', 'yellow', 'orange']\n",
    "    drawTriangle(points,colormap[degree])\n",
    "\n",
    "    if degree > 0:\n",
    "        sierpinski(degree - 1,\n",
    "                    {\n",
    "                        'left': points['left'],\n",
    "                        'top': getMid(points['left'], points['top']),\n",
    "                        'right': getMid(points['left'], points['right'])\n",
    "                    })\n",
    "        sierpinski(degree - 1,\n",
    "                    {\n",
    "                        'left': getMid(points['left'], points['top']),\n",
    "                        'top':  points['top'],\n",
    "                        'right': getMid(points['top'], points['right'])\n",
    "                    }\n",
    "                    )\n",
    "        sierpinski(degree - 1,\n",
    "                    {\n",
    "                        'left': getMid(points['left'], points['right']),\n",
    "                        'top':  getMid(points['top'], points['right']),\n",
    "                        'right': points['right'],\n",
    "                    }\n",
    "                    )\n",
    "\n",
    "t = turtle.Turtle()\n",
    "\n",
    "points = {\n",
    "    'left': (-200, -100),\n",
    "    'top': (0, 200),\n",
    "    'right': (200, -100) \n",
    "}\n",
    "sierpinski(5,points)\n",
    "turtle.done()"
   ]
  },
  {
   "cell_type": "code",
   "execution_count": null,
   "metadata": {},
   "outputs": [],
   "source": []
  }
 ],
 "metadata": {
  "interpreter": {
   "hash": "b7742352b855fcc4ce05d7cdc34e4c9072917ca8e1300cc05108ac6d085178a0"
  },
  "kernelspec": {
   "display_name": "Python 3.7.9 64-bit ('base': conda)",
   "name": "python3"
  },
  "language_info": {
   "codemirror_mode": {
    "name": "ipython",
    "version": 3
   },
   "file_extension": ".py",
   "mimetype": "text/x-python",
   "name": "python",
   "nbconvert_exporter": "python",
   "pygments_lexer": "ipython3",
   "version": "3.7.9"
  },
  "orig_nbformat": 4
 },
 "nbformat": 4,
 "nbformat_minor": 2
}
