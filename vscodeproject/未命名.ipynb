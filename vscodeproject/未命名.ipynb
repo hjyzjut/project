{
 "cells": [
  {
   "cell_type": "code",
   "execution_count": 1,
   "metadata": {},
   "outputs": [],
   "source": [
    "import pandas as pd"
   ]
  },
  {
   "cell_type": "code",
   "execution_count": 5,
   "metadata": {},
   "outputs": [
    {
     "name": "stderr",
     "output_type": "stream",
     "text": [
      "/Users/huangjiyong/opt/anaconda3/lib/python3.7/site-packages/IPython/core/interactiveshell.py:3147: DtypeWarning: Columns (9) have mixed types.Specify dtype option on import or set low_memory=False.\n",
      "  interactivity=interactivity, compiler=compiler, result=result)\n"
     ]
    }
   ],
   "source": [
    "tab = pd.read_csv('/Users/huangjiyong/Desktop/ods_ali_sku_detail_202109281442.csv',encoding='GB2312')"
   ]
  },
  {
   "cell_type": "code",
   "execution_count": 8,
   "metadata": {},
   "outputs": [
    {
     "data": {
      "text/plain": [
       "(409195, 28)"
      ]
     },
     "execution_count": 8,
     "metadata": {},
     "output_type": "execute_result"
    }
   ],
   "source": [
    "tab.shape"
   ]
  },
  {
   "cell_type": "code",
   "execution_count": 11,
   "metadata": {},
   "outputs": [],
   "source": [
    "cols={'store_id':'店铺ID',\n",
    " 'shop_name':'店铺名称',\n",
    " 'item_id':'商品ID',\n",
    " 'loc':'位置',\n",
    " 'shop_type':'店铺类型',\n",
    " 'leaf_category_id':'叶子类目ID',\n",
    " 'first_category_name':'一级类目名',\n",
    " 'second_category_name':'二级类目名',\n",
    " 'third_category_name':'三级类目名',\n",
    " 'fourth_category_name':'四级类目名',\n",
    " 'leaf_category_name':'叶子类目',\n",
    " 'platform':'平台',\n",
    " 'brand_id':'品牌ID',\n",
    " 'brand_name':'品牌名',\n",
    " 'title':'标题',\n",
    " 'sku_id':'skuid',\n",
    " 'sku_name':'sku名字',\n",
    " 'sku_status':'sku状态',\n",
    " 'price':'单价',\n",
    " 'sold':'销量',\n",
    " 'sale':'销售额',\n",
    " 'discount':'折扣价',\n",
    " 'comment':'评论',\n",
    " 'properties':'属性',\n",
    " 'pic':'图片连接',\n",
    " 'store':'库存',\n",
    " 'file_name':'文件名称',\n",
    " 'month':'日期'\n",
    "}"
   ]
  },
  {
   "cell_type": "code",
   "execution_count": 12,
   "metadata": {},
   "outputs": [],
   "source": [
    "tab.rename(columns=cols,inplace=True) "
   ]
  },
  {
   "cell_type": "code",
   "execution_count": 24,
   "metadata": {},
   "outputs": [],
   "source": [
    "l = tab.columns.tolist()"
   ]
  },
  {
   "cell_type": "code",
   "execution_count": 25,
   "metadata": {},
   "outputs": [],
   "source": [
    "l.remove('文件名称')\n",
    "l.remove('图片连接')"
   ]
  },
  {
   "cell_type": "code",
   "execution_count": 26,
   "metadata": {},
   "outputs": [
    {
     "data": {
      "text/plain": [
       "['店铺ID',\n",
       " '店铺名称',\n",
       " '商品ID',\n",
       " '位置',\n",
       " '店铺类型',\n",
       " '叶子类目ID',\n",
       " '一级类目名',\n",
       " '二级类目名',\n",
       " '三级类目名',\n",
       " '四级类目名',\n",
       " '叶子类目',\n",
       " '平台',\n",
       " '品牌ID',\n",
       " '品牌名',\n",
       " '标题',\n",
       " 'skuid',\n",
       " 'sku名字',\n",
       " 'sku状态',\n",
       " '单价',\n",
       " '销量',\n",
       " '销售额',\n",
       " '折扣价',\n",
       " '评论',\n",
       " '属性',\n",
       " '库存',\n",
       " '日期']"
      ]
     },
     "execution_count": 26,
     "metadata": {},
     "output_type": "execute_result"
    }
   ],
   "source": [
    "l"
   ]
  },
  {
   "cell_type": "code",
   "execution_count": 29,
   "metadata": {},
   "outputs": [],
   "source": [
    "tab[l].to_csv('男装202006-202108数据（6个品牌）.csv',encoding='GB2312')"
   ]
  },
  {
   "cell_type": "code",
   "execution_count": null,
   "metadata": {},
   "outputs": [],
   "source": []
  }
 ],
 "metadata": {
  "kernelspec": {
   "display_name": "Python 3",
   "language": "python",
   "name": "python3"
  },
  "language_info": {
   "codemirror_mode": {
    "name": "ipython",
    "version": 3
   },
   "file_extension": ".py",
   "mimetype": "text/x-python",
   "name": "python",
   "nbconvert_exporter": "python",
   "pygments_lexer": "ipython3",
   "version": "3.7.9"
  }
 },
 "nbformat": 4,
 "nbformat_minor": 4
}
